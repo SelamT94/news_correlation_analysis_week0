{
 "cells": [
  {
   "cell_type": "code",
   "execution_count": null,
   "metadata": {},
   "outputs": [],
   "source": [
    "from src.loader import NewsDataLoader\n",
    "from sklearn.decomposition import LatentDirichletAllocation\n",
    "\n",
    "data_directory = \"../data\"\n",
    "loader = NewsDataLoader(data_directory)\n",
    "merge_df = loader.load_data()\n",
    "\n",
    "tfidf_vectorizer = TfidfVectorizer(max_features=1000)\n",
    "tfidf_matrix = tfidf_vectorizer.fit_transform(merge_df['content'])\n",
    "\n",
    "lda = LatentDirichletAllocation(n_components=10, random_state=42)\n",
    "lda.fit(tfidf_matrix)\n",
    "\n",
    "# Implement topic modeling using LDA\n",
    "# Categorize titles/content into topic categories\n",
    "# Analyze topics and trends\n",
    "# Visualize results\n"
   ]
  }
 ],
 "metadata": {
  "language_info": {
   "name": "python"
  }
 },
 "nbformat": 4,
 "nbformat_minor": 2
}
