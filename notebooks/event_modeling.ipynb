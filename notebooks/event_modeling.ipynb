{
 "cells": [
  {
   "cell_type": "code",
   "execution_count": null,
   "metadata": {
    "vscode": {
     "languageId": "plaintext"
    }
   },
   "outputs": [],
   "source": [
    "from src.loader import NewsDataLoader\n",
    "from sklearn.cluster import KMeans\n",
    "\n",
    "data_directory = \"../data\"\n",
    "loader = NewsDataLoader(data_directory)\n",
    "merge_df = loader.load_data()\n",
    "\n",
    "tfidf_vectorizer = TfidfVectorizer(max_features=1000)\n",
    "tfidf_matrix = tfidf_vectorizer.fit_transform(merge_df['content'])\n",
    "\n",
    "kmeans = KMeans(n_clusters=5, random_state=42)\n",
    "kmeans.fit(tfidf_matrix)\n",
    "\n",
    "# Implement event modeling by clustering news articles\n",
    "# Analyze the number of events covered, reporting trends, etc.\n",
    "# Visualize results\n"
   ]
  }
 ],
 "metadata": {
  "language_info": {
   "name": "python"
  }
 },
 "nbformat": 4,
 "nbformat_minor": 2
}
