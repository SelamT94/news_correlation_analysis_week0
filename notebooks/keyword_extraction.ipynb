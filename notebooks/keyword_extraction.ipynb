{
 "cells": [
  {
   "cell_type": "code",
   "execution_count": null,
   "metadata": {},
   "outputs": [],
   "source": [
    "import pandas as pd\n",
    "from keybert import KeyBERT\n",
    "import matplotlib.pyplot as plt\n",
    "from collections import Counter"
   ]
  },
  {
   "cell_type": "code",
   "execution_count": null,
   "metadata": {},
   "outputs": [],
   "source": [
    "rpath = os.path.abspath('..')\n",
    "if rpath not in sys.path:\n",
    "    sys.path.insert(0, rpath)\n",
    "\n",
    "from src.loader import NewsDataLoader\n",
    "\n",
    "if __name__ == \"__main__\":\n",
    "    data_directory = \"../data\"\n",
    "    loader = NewsDataLoader(data_directory)\n",
    "\n",
    "    merge_df = loader.load_data()"
   ]
  },
  {
   "cell_type": "code",
   "execution_count": 1,
   "metadata": {},
   "outputs": [
    {
     "ename": "ModuleNotFoundError",
     "evalue": "No module named 'keybert'",
     "output_type": "error",
     "traceback": [
      "\u001b[1;31m---------------------------------------------------------------------------\u001b[0m",
      "\u001b[1;31mModuleNotFoundError\u001b[0m                       Traceback (most recent call last)",
      "Cell \u001b[1;32mIn[1], line 2\u001b[0m\n\u001b[0;32m      1\u001b[0m \u001b[38;5;28;01mimport\u001b[39;00m \u001b[38;5;21;01mpandas\u001b[39;00m \u001b[38;5;28;01mas\u001b[39;00m \u001b[38;5;21;01mpd\u001b[39;00m\n\u001b[1;32m----> 2\u001b[0m \u001b[38;5;28;01mfrom\u001b[39;00m \u001b[38;5;21;01mkeybert\u001b[39;00m \u001b[38;5;28;01mimport\u001b[39;00m KeyBERT\n\u001b[0;32m      3\u001b[0m \u001b[38;5;28;01mimport\u001b[39;00m \u001b[38;5;21;01mmatplotlib\u001b[39;00m\u001b[38;5;21;01m.\u001b[39;00m\u001b[38;5;21;01mpyplot\u001b[39;00m \u001b[38;5;28;01mas\u001b[39;00m \u001b[38;5;21;01mplt\u001b[39;00m\n\u001b[0;32m      4\u001b[0m \u001b[38;5;28;01mfrom\u001b[39;00m \u001b[38;5;21;01mcollections\u001b[39;00m \u001b[38;5;28;01mimport\u001b[39;00m Counter\n",
      "\u001b[1;31mModuleNotFoundError\u001b[0m: No module named 'keybert'"
     ]
    }
   ],
   "source": [
    "\n",
    "model = KeyBERT('distilbert-base-nli-mean-tokens')\n",
    "\n",
    "def extract_keywords(text):\n",
    "    return model.extract_keywords(text, keyphrase_ngram_range=(1, 1), stop_words='english', top_n=5)\n",
    "\n",
    "merge_df['title_keywords'] = merge_df['title'].apply(extract_keywords)\n",
    "merge_df['content_keywords'] = merge_df['content'].apply(extract_keywords)\n",
    "\n",
    "all_title_keywords = [keyword for keywords in merge_df['title_keywords'] for keyword in keywords]\n",
    "all_content_keywords = [keyword for keywords in merge_df['content_keywords'] for keyword in keywords]\n",
    "\n",
    "title_keyword_counts = Counter(all_title_keywords)\n",
    "content_keyword_counts = Counter(all_content_keywords)\n",
    "\n",
    "sorted_title_keywords = sorted(title_keyword_counts.items(), key=lambda x: x[1], reverse=True)\n",
    "sorted_content_keywords = sorted(content_keyword_counts.items(), key=lambda x: x[1], reverse=True)\n",
    "\n",
    "# Plot the top 10 keywords extracted from titles\n",
    "plt.figure(figsize=(10, 5))\n",
    "plt.bar(*zip(*sorted_title_keywords[:10]))\n",
    "plt.xlabel('Keyword')\n",
    "plt.ylabel('Frequency')\n",
    "plt.title('Top 10 Keywords Extracted from Titles')\n",
    "plt.xticks(rotation=45)\n",
    "plt.show()\n",
    "\n",
    "# Plot the top 10 keywords extracted from content\n",
    "plt.figure(figsize=(10, 5))\n",
    "plt.bar(*zip(*sorted_content_keywords[:10]))\n",
    "plt.xlabel('Keyword')\n",
    "plt.ylabel('Frequency')\n",
    "plt.title('Top 10 Keywords Extracted from Content')\n",
    "plt.xticks(rotation=45)\n",
    "plt.show()\n"
   ]
  }
 ],
 "metadata": {
  "kernelspec": {
   "display_name": "Python 3",
   "language": "python",
   "name": "python3"
  },
  "language_info": {
   "codemirror_mode": {
    "name": "ipython",
    "version": 3
   },
   "file_extension": ".py",
   "mimetype": "text/x-python",
   "name": "python",
   "nbconvert_exporter": "python",
   "pygments_lexer": "ipython3",
   "version": "3.11.4"
  }
 },
 "nbformat": 4,
 "nbformat_minor": 2
}
