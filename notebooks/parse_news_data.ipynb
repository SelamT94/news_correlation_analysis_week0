{
 "cells": [
  {
   "cell_type": "code",
   "execution_count": 18,
   "metadata": {},
   "outputs": [],
   "source": [
    "%reload_ext autoreload\n",
    "%autoreload 2"
   ]
  },
  {
   "cell_type": "code",
   "execution_count": 19,
   "metadata": {},
   "outputs": [],
   "source": [
    "import os, sys\n",
    "import pandas as pd\n",
    "\n",
    "from matplotlib import pyplot as plt\n",
    "from nltk.corpus import stopwords\n",
    "from wordcloud import WordCloud\n",
    "\n"
   ]
  },
  {
   "cell_type": "code",
   "execution_count": 14,
   "metadata": {},
   "outputs": [],
   "source": [
    "# Add parent directory to path to import modules from src\n",
    "rpath = os.path.abspath('..')\n",
    "if rpath not in sys.path:\n",
    "    sys.path.insert(0, rpath)\n"
   ]
  },
  {
   "cell_type": "code",
   "execution_count": 15,
   "metadata": {},
   "outputs": [
    {
     "ename": "ModuleNotFoundError",
     "evalue": "No module named 'loader'",
     "output_type": "error",
     "traceback": [
      "\u001b[1;31m---------------------------------------------------------------------------\u001b[0m",
      "\u001b[1;31mModuleNotFoundError\u001b[0m                       Traceback (most recent call last)",
      "Cell \u001b[1;32mIn[15], line 2\u001b[0m\n\u001b[0;32m      1\u001b[0m \u001b[38;5;28;01mfrom\u001b[39;00m \u001b[38;5;21;01msrc\u001b[39;00m\u001b[38;5;21;01m.\u001b[39;00m\u001b[38;5;21;01mloader\u001b[39;00m \u001b[38;5;28;01mimport\u001b[39;00m NewsDataLoader\n\u001b[1;32m----> 2\u001b[0m \u001b[38;5;28;01mimport\u001b[39;00m \u001b[38;5;21;01msrc\u001b[39;00m\u001b[38;5;21;01m.\u001b[39;00m\u001b[38;5;21;01mutils\u001b[39;00m \u001b[38;5;28;01mas\u001b[39;00m \u001b[38;5;21;01mutils\u001b[39;00m\n\u001b[0;32m      3\u001b[0m \u001b[38;5;28;01mif\u001b[39;00m \u001b[38;5;18m__name__\u001b[39m \u001b[38;5;241m==\u001b[39m \u001b[38;5;124m\"\u001b[39m\u001b[38;5;124m__main__\u001b[39m\u001b[38;5;124m\"\u001b[39m:\n\u001b[0;32m      4\u001b[0m     data_directory \u001b[38;5;241m=\u001b[39m \u001b[38;5;124m\"\u001b[39m\u001b[38;5;124m../data\u001b[39m\u001b[38;5;124m\"\u001b[39m\n",
      "File \u001b[1;32mc:\\Users\\dell\\Desktop\\10Academy\\news_correlation_analysis_week0\\src\\utils.py:14\u001b[0m\n\u001b[0;32m     11\u001b[0m \u001b[38;5;28;01mimport\u001b[39;00m \u001b[38;5;21;01mseaborn\u001b[39;00m \u001b[38;5;28;01mas\u001b[39;00m \u001b[38;5;21;01msns\u001b[39;00m\n\u001b[0;32m     12\u001b[0m \u001b[38;5;28;01mfrom\u001b[39;00m \u001b[38;5;21;01mnltk\u001b[39;00m\u001b[38;5;21;01m.\u001b[39;00m\u001b[38;5;21;01mcorpus\u001b[39;00m \u001b[38;5;28;01mimport\u001b[39;00m stopwords\n\u001b[1;32m---> 14\u001b[0m \u001b[38;5;28;01mfrom\u001b[39;00m \u001b[38;5;21;01mloader\u001b[39;00m \u001b[38;5;28;01mimport\u001b[39;00m NewsDataLoader\n\u001b[0;32m     16\u001b[0m \u001b[38;5;28;01mdef\u001b[39;00m \u001b[38;5;21mload_data\u001b[39m(data_directory):\n\u001b[0;32m     17\u001b[0m     loader \u001b[38;5;241m=\u001b[39m NewsDataLoader(data_directory)\n",
      "\u001b[1;31mModuleNotFoundError\u001b[0m: No module named 'loader'"
     ]
    }
   ],
   "source": [
    "from src.loader import NewsDataLoader\n",
    "import src.utils as utils\n",
    "if __name__ == \"__main__\":\n",
    "    data_directory = \"../data\"\n",
    "    loader = NewsDataLoader(data_directory)\n",
    "\n",
    "# Drop duplicates\n",
    "rating_df.drop_duplicates(inplace=True)\n",
    "domain_locations_df.drop_duplicates(inplace=True)\n",
    "traffic_data_df.drop_duplicates(inplace=True)\n",
    "\n",
    "# Drop unnecessary columns\n",
    "if 'source_id' in rating_df.columns:\n",
    "    rating_df.drop(columns=['source_id'], inplace=True)\n",
    "\n",
    "if 'url_to_image' in rating_df.columns:\n",
    "    rating_df.drop(columns=['url_to_image'], inplace=True)\n",
    "\n",
    "# Drop rows with missing values\n",
    "rating_df = rating_df.dropna(axis=0)\n",
    "domain_locations_df = domain_locations_df.dropna(axis=0)\n",
    "\n",
    "# rating_df['domain'] = rating_df['url'].apply(get_domain)\n",
    "\n",
    "merge_df=pd.merge(rating_df, domain_locations_df ,left_on='source_name', right_on ='SourceCommonName' ,how ='left')\n",
    "merge_df=pd.merge(merge_df, traffic_data_df , left_on ='source_name' ,right_on='Domain' ,how ='left')"
   ]
  },
  {
   "cell_type": "code",
   "execution_count": null,
   "metadata": {},
   "outputs": [],
   "source": [
    "#  Top and Bottom 10 Websites\n",
    "top_10_websites = merge_df['source_name'].value_counts().head(10)\n",
    "bottom_10_websites = merge_df['source_name'].value_counts().tail(10)\n",
    "\n",
    "print(\"Top 10 Websites are:\\n\", top_10_websites)\n",
    "print(\"\\nBottom 10 Websites are:\\n\", bottom_10_websites)"
   ]
  },
  {
   "cell_type": "code",
   "execution_count": null,
   "metadata": {},
   "outputs": [],
   "source": [
    "\n",
    "# Plotting\n",
    "plt.figure(figsize=(10, 6))\n",
    "\n",
    "# Plot for top 10 websites\n",
    "plt.subplot(1, 2, 1)\n",
    "top_10_websites.plot(kind='bar', color='skyblue')\n",
    "plt.title('Top 10 Websites with Largest Count of News Articles')\n",
    "plt.xlabel('Website')\n",
    "plt.ylabel('Number of Articles')\n",
    "plt.xticks(rotation=45, ha='right')\n",
    "\n",
    "# Plot for bottom 10 websites\n",
    "plt.subplot(1, 2, 2)\n",
    "bottom_10_websites.plot(kind='bar', color='salmon')\n",
    "plt.title('Bottom 10 Websites with Smallest Count of News Articles')\n",
    "plt.xlabel('Website')\n",
    "plt.ylabel('Number of Articles')\n",
    "plt.xticks(rotation=45, ha='right')\n",
    "\n",
    "plt.tight_layout()\n",
    "plt.show()"
   ]
  },
  {
   "cell_type": "markdown",
   "metadata": {},
   "source": []
  },
  {
   "cell_type": "code",
   "execution_count": null,
   "metadata": {},
   "outputs": [],
   "source": [
    "# Websites with the Highest Numbers of Visitors Traffic\n",
    "\n",
    "websites_traffic = merge_df.groupby('source_name')['GlobalRank'].max().nlargest(10)\n",
    "print(merge_df.GlobalRank)\n",
    "print(\"\\nWebsites with Highest Numbers of Visitors Traffic:\\n\", websites_traffic)"
   ]
  },
  {
   "cell_type": "code",
   "execution_count": null,
   "metadata": {},
   "outputs": [],
   "source": [
    "#  Countries with the Highest Number of News Media Organisations\n",
    "countries_media_organizations = merge_df['Country'].value_counts()\n",
    "print(\"\\nCountries with the Highest Number of News Media Organisations:\")\n",
    "print(countries_media_organizations)\n"
   ]
  },
  {
   "cell_type": "code",
   "execution_count": null,
   "metadata": {},
   "outputs": [],
   "source": [
    "# Countries that have many articles written about them\n",
    "articles_about_countries = merge_df['Country'].value_counts()\n",
    "print(\"\\nCountries that have many articles written about them:\", articles_about_countries)\n"
   ]
  },
  {
   "cell_type": "code",
   "execution_count": null,
   "metadata": {},
   "outputs": [],
   "source": [
    "\n",
    "#  Websites that reported about specific countries or regions\n",
    "countries_of_interest = ['Africa', 'US', 'China', 'EU', 'Russia', 'Ukraine', 'Middle East']\n",
    "websites_reporting_about_countries = merge_df[merge_df['Country'].isin(countries_of_interest)]\n",
    "\n",
    "print(\"\\nWebsites that reported about specific countries or regions:\", websites_reporting_about_countries)\n"
   ]
  },
  {
   "cell_type": "code",
   "execution_count": null,
   "metadata": {},
   "outputs": [],
   "source": [
    "\n",
    "#Websites with the highest count of positive, neutral, and negative sentiment\n",
    "sentiment_counts_by_website = merge_df.groupby('source_name')['title_sentiment'].value_counts()\n",
    "print(\"\\nWebsites with the highest count of positive, neutral, and negative sentiment:\", sentiment_counts_by_website)\n"
   ]
  },
  {
   "cell_type": "code",
   "execution_count": null,
   "metadata": {},
   "outputs": [],
   "source": [
    "# Compare the impact of using mean/average and median\n",
    "\n",
    "merge_df['title_sentiment'] = pd.to_numeric(merge_df['title_sentiment'], errors='coerce')\n",
    "\n",
    "impact_mean_average_median = merge_df[['title_sentiment']].agg(['mean', 'median'])\n",
    "\n",
    "print(\"\\nImpact of using mean/average and median sentiment:\", impact_mean_average_median)\n"
   ]
  },
  {
   "cell_type": "code",
   "execution_count": null,
   "metadata": {},
   "outputs": [],
   "source": [
    "\n",
    "# Check the distribution of sentiments for a particular domain\n",
    "top_10_domains_by_traffic = merge_df.groupby('source_name')['GlobalRank'].max().nlargest(10)\n",
    "sentiment_distribution_for_domain = merge_df[merge_df['source_name'].isin(top_10_domains_by_traffic.index)]['title_sentiment'].value_counts()\n",
    "\n",
    "print(\"Sentiment distribution for a particular domain:\")\n",
    "print(sentiment_distribution_for_domain)"
   ]
  },
  {
   "cell_type": "code",
   "execution_count": null,
   "metadata": {},
   "outputs": [],
   "source": [
    "if not sentiment_distribution_for_domain.empty:\n",
    "\n",
    "    plt.figure(figsize=(8, 6))\n",
    "    sentiment_distribution_for_domain.plot(kind='bar', color='lightgreen')\n",
    "    plt.title('Distribution of Sentiments for a Particular Domain')\n",
    "    plt.xlabel('Sentiment')\n",
    "    plt.ylabel('Count')\n",
    "    plt.xticks(rotation=45, ha='right')\n",
    "    plt.tight_layout()\n",
    "    plt.show()\n",
    "else:\n",
    "    print(\"Sentiment distribution data is empty. Unable to plot.\")"
   ]
  },
  {
   "cell_type": "code",
   "execution_count": null,
   "metadata": {},
   "outputs": [],
   "source": [
    "# Compare content metadata across sites\n",
    "content_metadata_comparison = merge_df.groupby('source_name')[['author', 'category']].nunique()\n",
    "print(\"\\nComparison of content metadata across sites:\", content_metadata_comparison)\n"
   ]
  },
  {
   "cell_type": "code",
   "execution_count": null,
   "metadata": {},
   "outputs": [],
   "source": [
    "plt.figure(figsize=(10, 6))\n",
    "content_metadata_comparison.plot(kind='bar')\n",
    "plt.title('Comparison of Content Metadata Across Sites')\n",
    "plt.xlabel('Website')\n",
    "plt.ylabel('Count')\n",
    "plt.xticks(rotation=45, ha='right')\n",
    "plt.legend(['Unique Authors', 'Unique Categories'])\n",
    "plt.tight_layout()\n",
    "plt.show()"
   ]
  },
  {
   "cell_type": "code",
   "execution_count": null,
   "metadata": {},
   "outputs": [],
   "source": [
    "# Analyze the similarity of message lengths across sites\n",
    "message_lengths = merge_df.groupby('source_name')['content'].apply(lambda x: x.str.len().mean())\n",
    "print(\"\\nAnalysis of the similarity of message lengths across sites:\", message_lengths)"
   ]
  },
  {
   "cell_type": "code",
   "execution_count": null,
   "metadata": {},
   "outputs": [],
   "source": [
    "plt.figure(figsize=(10, 6))\n",
    "\n",
    "\n",
    "\n",
    "\n",
    "\n",
    "\n",
    "\n",
    ".plot(kind='bar', color='skyblue')\n",
    "plt.title('Analysis of Message Lengths Across Sites')\n",
    "plt.xlabel('Website')\n",
    "plt.ylabel('Average Message Length')\n",
    "plt.xticks(rotation=45, ha='right')\n",
    "plt.tight_layout()\n",
    "plt.show()"
   ]
  },
  {
   "cell_type": "code",
   "execution_count": null,
   "metadata": {},
   "outputs": [],
   "source": [
    "# Analyze the similarity of the number of words in titles across sites\n",
    "title_word_counts = merge_df.groupby('source_name')['title'].apply(lambda x: x.str.split().str.len().mean())\n",
    "print(\"\\nAnalysis of the similarity of the number of words in titles across sites:\", title_word_counts)\n"
   ]
  },
  {
   "cell_type": "code",
   "execution_count": null,
   "metadata": {},
   "outputs": [],
   "source": [
    "plt.figure(figsize=(10, 6))\n",
    "title_word_counts.plot(kind='bar', color='salmon')\n",
    "plt.title('Analysis of Title Word Counts Across Sites')\n",
    "plt.xlabel('Website')\n",
    "plt.ylabel('Average Number of Words in Title')\n",
    "plt.xticks(rotation=45, ha='right')\n",
    "plt.tight_layout()\n",
    "plt.show()"
   ]
  },
  {
   "cell_type": "code",
   "execution_count": null,
   "metadata": {},
   "outputs": [],
   "source": [
    "# Plotting\n",
    "plt.figure(figsize=(10, 6))\n",
    "\n",
    "# Plot the average number of words in titles\n",
    "title_word_counts.plot(kind='bar', color='lightgreen')\n",
    "plt.title('Average Number of Words in Titles Across Sites')\n",
    "plt.xlabel('Website')\n",
    "plt.ylabel('Average Number of Words')\n",
    "plt.xticks(rotation=45, ha='right')\n",
    "\n",
    "plt.tight_layout()\n",
    "plt.show()"
   ]
  },
  {
   "cell_type": "code",
   "execution_count": null,
   "metadata": {},
   "outputs": [],
   "source": [
    "\n",
    "# Compare content metadata across sites\n",
    "plt.figure(figsize=(10, 6))\n",
    "content_metadata_comparison.plot(kind='bar', stacked=True)\n",
    "plt.title('Comparison of Content Metadata Across Sites')\n",
    "plt.xlabel('Website')\n",
    "plt.ylabel('Number of Unique Items')\n",
    "plt.xticks(rotation=45, ha='right')\n",
    "plt.legend(['Authors', 'Categories'])\n",
    "plt.tight_layout()\n",
    "plt.show()\n"
   ]
  },
  {
   "cell_type": "code",
   "execution_count": 41,
   "metadata": {},
   "outputs": [
    {
     "data": {
      "image/png": "[encoded data removed]",
      "text/plain": [
       "<Figure size 1000x600 with 1 Axes>"
      ]
     },
     "metadata": {},
     "output_type": "display_data"
    }
   ],
   "source": [
    "# Similarity of raw message lengths across sites\n",
    "plt.figure(figsize=(10, 6))\n",
    "merge_df.groupby('source_name')['content'].apply(lambda x: x.str.len()).hist(alpha=0.5, bins=20, density=True)\n",
    "plt.title('Distribution of Message Lengths Across Sites')\n",
    "plt.xlabel('Message Length')\n",
    "plt.ylabel('Density')\n",
    "plt.legend(merge_df['source_name'].unique())\n",
    "plt.tight_layout()\n",
    "plt.show()"
   ]
  },
  {
   "cell_type": "code",
   "execution_count": 42,
   "metadata": {},
   "outputs": [
    {
     "data": {
      "image/png": "[encoded data removed]",
      "text/plain": [
       "<Figure size 1000x600 with 1 Axes>"
      ]
     },
     "metadata": {},
     "output_type": "display_data"
    }
   ],
   "source": [
    "\n",
    "# Similarity of number of words in titles across sites\n",
    "plt.figure(figsize=(10, 6))\n",
    "merge_df.groupby('source_name')['title'].apply(lambda x: x.str.split().str.len()).hist(alpha=0.5, bins=20, density=True)\n",
    "plt.title('Distribution of Number of Words in Titles Across Sites')\n",
    "plt.xlabel('Number of Words')\n",
    "plt.ylabel('Density')\n",
    "plt.legend(merge_df['source_name'].unique())\n",
    "plt.tight_layout()\n",
    "plt.show()"
   ]
  }
 ],
 "metadata": {
  "kernelspec": {
   "display_name": "Python 3",
   "language": "python",
   "name": "python3"
  },
  "language_info": {
   "codemirror_mode": {
    "name": "ipython",
    "version": 3
   },
   "file_extension": ".py",
   "mimetype": "text/x-python",
   "name": "python",
   "nbconvert_exporter": "python",
   "pygments_lexer": "ipython3",
   "version": "3.11.4"
  }
 },
 "nbformat": 4,
 "nbformat_minor": 4
}
